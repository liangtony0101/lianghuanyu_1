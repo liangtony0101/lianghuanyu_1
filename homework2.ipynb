{
 "cells": [
  {
   "cell_type": "code",
   "execution_count": 22,
   "metadata": {},
   "outputs": [
    {
     "name": "stdout",
     "output_type": "stream",
     "text": [
      "購買金額:130000元\n",
      "實付金額:104000元\n"
     ]
    }
   ],
   "source": [
    "# 作業2\n",
    "# 輸入顧客購買金額，若金額在\n",
    "\n",
    "# 100000元打8折.\n",
    "# 50000打85折.\n",
    "# 30000打9折.\n",
    "# 10000打95折.\n",
    "# 輸出的結果\n",
    "\n",
    "# 請輸入購買金額:130000\n",
    "# 實付金額…\n",
    "\n",
    "import pyinputplus as pyip\n",
    "\n",
    "money = pyip.inputInt(\"購買金額:\",min=0)\n",
    "print(f\"{money}元\")\n",
    "\n",
    "if money >= 100000:\n",
    "    money *= 0.8\n",
    "    print(f\"實付金額:{money:.0f}元\")\n",
    "elif money >= 50000:\n",
    "    money *= 0.85\n",
    "    print(f\"實付金額:{money:.0f}元\")\n",
    "elif money >= 30000:\n",
    "    money *= 0.9\n",
    "    print(f\"實付金額:{money:.0f}元\")\n",
    "else:\n",
    "    money *= 0.95\n",
    "    print(f\"實付金額:{money:.0f}元\")"
   ]
  }
 ],
 "metadata": {
  "kernelspec": {
   "display_name": "Python 3",
   "language": "python",
   "name": "python3"
  },
  "language_info": {
   "codemirror_mode": {
    "name": "ipython",
    "version": 3
   },
   "file_extension": ".py",
   "mimetype": "text/x-python",
   "name": "python",
   "nbconvert_exporter": "python",
   "pygments_lexer": "ipython3",
   "version": "3.10.13"
  }
 },
 "nbformat": 4,
 "nbformat_minor": 2
}
