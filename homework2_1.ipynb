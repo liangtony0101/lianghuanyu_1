{
 "cells": [
  {
   "cell_type": "code",
   "execution_count": 1,
   "metadata": {},
   "outputs": [
    {
     "name": "stdout",
     "output_type": "stream",
     "text": [
      "請輸入身高，單位為公分:177\n",
      "請輸入體重，單位為公斤:80\n",
      "您的BMI是25.53545\n",
      "您的體重過重\n"
     ]
    }
   ],
   "source": [
    "import pyinputplus as pyip\n",
    "\n",
    "height = pyip.inputInt(\"請輸入身高，單位為公分:\",min=0)\n",
    "print(height)\n",
    "weight = pyip.inputInt(\"請輸入體重，單位為公斤:\",min=0)\n",
    "print(weight)\n",
    "\n",
    "BMI = weight / (height*0.01)**2\n",
    "print(f\"您的BMI是{BMI:.5f}\")\n",
    "\n",
    "if BMI < 18.5:\n",
    "    print(\"您的體重過輕\")\n",
    "elif BMI < 24:\n",
    "    print(\"您的體重正常\")\n",
    "elif BMI < 27:\n",
    "    print(\"您的體重過重\")\n",
    "elif BMI < 30:\n",
    "    print(\"輕度肥胖\")\n",
    "elif BMI < 35:\n",
    "    print(\"中度肥胖\")\n",
    "else:\n",
    "    print(\"種度肥胖\")"
   ]
  }
 ],
 "metadata": {
  "kernelspec": {
   "display_name": "Python 3",
   "language": "python",
   "name": "python3"
  },
  "language_info": {
   "codemirror_mode": {
    "name": "ipython",
    "version": 3
   },
   "file_extension": ".py",
   "mimetype": "text/x-python",
   "name": "python",
   "nbconvert_exporter": "python",
   "pygments_lexer": "ipython3",
   "version": "3.10.13"
  }
 },
 "nbformat": 4,
 "nbformat_minor": 2
}
